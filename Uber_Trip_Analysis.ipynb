{
 "cells": [
  {
   "cell_type": "code",
   "execution_count": 67,
   "id": "f749b756-7d69-4780-871e-724db277146a",
   "metadata": {},
   "outputs": [],
   "source": [
    "import pandas as pd\n",
    "import numpy as np\n",
    "import matplotlib.pyplot as plt"
   ]
  },
  {
   "cell_type": "code",
   "execution_count": 68,
   "id": "4e3e40eb-9670-428d-a2c6-23b312d8f856",
   "metadata": {},
   "outputs": [],
   "source": [
    "df = pd.read_csv(\"archive (1)/UberDataset.csv\")"
   ]
  },
  {
   "cell_type": "code",
   "execution_count": 69,
   "id": "424c8011-fbb7-4155-a1bc-199dea507656",
   "metadata": {},
   "outputs": [
    {
     "data": {
      "text/html": [
       "<div>\n",
       "<style scoped>\n",
       "    .dataframe tbody tr th:only-of-type {\n",
       "        vertical-align: middle;\n",
       "    }\n",
       "\n",
       "    .dataframe tbody tr th {\n",
       "        vertical-align: top;\n",
       "    }\n",
       "\n",
       "    .dataframe thead th {\n",
       "        text-align: right;\n",
       "    }\n",
       "</style>\n",
       "<table border=\"1\" class=\"dataframe\">\n",
       "  <thead>\n",
       "    <tr style=\"text-align: right;\">\n",
       "      <th></th>\n",
       "      <th>START_DATE</th>\n",
       "      <th>END_DATE</th>\n",
       "      <th>CATEGORY</th>\n",
       "      <th>START</th>\n",
       "      <th>STOP</th>\n",
       "      <th>MILES</th>\n",
       "      <th>PURPOSE</th>\n",
       "    </tr>\n",
       "  </thead>\n",
       "  <tbody>\n",
       "    <tr>\n",
       "      <th>0</th>\n",
       "      <td>01-01-2016 21:11</td>\n",
       "      <td>01-01-2016 21:17</td>\n",
       "      <td>Business</td>\n",
       "      <td>Fort Pierce</td>\n",
       "      <td>Fort Pierce</td>\n",
       "      <td>5.1</td>\n",
       "      <td>Meal/Entertain</td>\n",
       "    </tr>\n",
       "    <tr>\n",
       "      <th>1</th>\n",
       "      <td>01-02-2016 01:25</td>\n",
       "      <td>01-02-2016 01:37</td>\n",
       "      <td>Business</td>\n",
       "      <td>Fort Pierce</td>\n",
       "      <td>Fort Pierce</td>\n",
       "      <td>5.0</td>\n",
       "      <td>NaN</td>\n",
       "    </tr>\n",
       "    <tr>\n",
       "      <th>2</th>\n",
       "      <td>01-02-2016 20:25</td>\n",
       "      <td>01-02-2016 20:38</td>\n",
       "      <td>Business</td>\n",
       "      <td>Fort Pierce</td>\n",
       "      <td>Fort Pierce</td>\n",
       "      <td>4.8</td>\n",
       "      <td>Errand/Supplies</td>\n",
       "    </tr>\n",
       "    <tr>\n",
       "      <th>3</th>\n",
       "      <td>01-05-2016 17:31</td>\n",
       "      <td>01-05-2016 17:45</td>\n",
       "      <td>Business</td>\n",
       "      <td>Fort Pierce</td>\n",
       "      <td>Fort Pierce</td>\n",
       "      <td>4.7</td>\n",
       "      <td>Meeting</td>\n",
       "    </tr>\n",
       "    <tr>\n",
       "      <th>4</th>\n",
       "      <td>01-06-2016 14:42</td>\n",
       "      <td>01-06-2016 15:49</td>\n",
       "      <td>Business</td>\n",
       "      <td>Fort Pierce</td>\n",
       "      <td>West Palm Beach</td>\n",
       "      <td>63.7</td>\n",
       "      <td>Customer Visit</td>\n",
       "    </tr>\n",
       "  </tbody>\n",
       "</table>\n",
       "</div>"
      ],
      "text/plain": [
       "         START_DATE          END_DATE  CATEGORY        START             STOP  \\\n",
       "0  01-01-2016 21:11  01-01-2016 21:17  Business  Fort Pierce      Fort Pierce   \n",
       "1  01-02-2016 01:25  01-02-2016 01:37  Business  Fort Pierce      Fort Pierce   \n",
       "2  01-02-2016 20:25  01-02-2016 20:38  Business  Fort Pierce      Fort Pierce   \n",
       "3  01-05-2016 17:31  01-05-2016 17:45  Business  Fort Pierce      Fort Pierce   \n",
       "4  01-06-2016 14:42  01-06-2016 15:49  Business  Fort Pierce  West Palm Beach   \n",
       "\n",
       "   MILES          PURPOSE  \n",
       "0    5.1   Meal/Entertain  \n",
       "1    5.0              NaN  \n",
       "2    4.8  Errand/Supplies  \n",
       "3    4.7          Meeting  \n",
       "4   63.7   Customer Visit  "
      ]
     },
     "execution_count": 69,
     "metadata": {},
     "output_type": "execute_result"
    }
   ],
   "source": [
    "df.head()"
   ]
  },
  {
   "cell_type": "code",
   "execution_count": 70,
   "id": "be5651f2-4355-4e18-b8ec-0d004e318d1b",
   "metadata": {},
   "outputs": [],
   "source": [
    "df = df.drop(columns=['START', 'STOP'])"
   ]
  },
  {
   "cell_type": "code",
   "execution_count": 71,
   "id": "b1bba9de-e424-48e2-b437-279f9f9a49c8",
   "metadata": {},
   "outputs": [
    {
     "data": {
      "text/html": [
       "<div>\n",
       "<style scoped>\n",
       "    .dataframe tbody tr th:only-of-type {\n",
       "        vertical-align: middle;\n",
       "    }\n",
       "\n",
       "    .dataframe tbody tr th {\n",
       "        vertical-align: top;\n",
       "    }\n",
       "\n",
       "    .dataframe thead th {\n",
       "        text-align: right;\n",
       "    }\n",
       "</style>\n",
       "<table border=\"1\" class=\"dataframe\">\n",
       "  <thead>\n",
       "    <tr style=\"text-align: right;\">\n",
       "      <th></th>\n",
       "      <th>START_DATE</th>\n",
       "      <th>END_DATE</th>\n",
       "      <th>CATEGORY</th>\n",
       "      <th>MILES</th>\n",
       "      <th>PURPOSE</th>\n",
       "    </tr>\n",
       "  </thead>\n",
       "  <tbody>\n",
       "    <tr>\n",
       "      <th>0</th>\n",
       "      <td>01-01-2016 21:11</td>\n",
       "      <td>01-01-2016 21:17</td>\n",
       "      <td>Business</td>\n",
       "      <td>5.1</td>\n",
       "      <td>Meal/Entertain</td>\n",
       "    </tr>\n",
       "    <tr>\n",
       "      <th>1</th>\n",
       "      <td>01-02-2016 01:25</td>\n",
       "      <td>01-02-2016 01:37</td>\n",
       "      <td>Business</td>\n",
       "      <td>5.0</td>\n",
       "      <td>NaN</td>\n",
       "    </tr>\n",
       "    <tr>\n",
       "      <th>2</th>\n",
       "      <td>01-02-2016 20:25</td>\n",
       "      <td>01-02-2016 20:38</td>\n",
       "      <td>Business</td>\n",
       "      <td>4.8</td>\n",
       "      <td>Errand/Supplies</td>\n",
       "    </tr>\n",
       "    <tr>\n",
       "      <th>3</th>\n",
       "      <td>01-05-2016 17:31</td>\n",
       "      <td>01-05-2016 17:45</td>\n",
       "      <td>Business</td>\n",
       "      <td>4.7</td>\n",
       "      <td>Meeting</td>\n",
       "    </tr>\n",
       "    <tr>\n",
       "      <th>4</th>\n",
       "      <td>01-06-2016 14:42</td>\n",
       "      <td>01-06-2016 15:49</td>\n",
       "      <td>Business</td>\n",
       "      <td>63.7</td>\n",
       "      <td>Customer Visit</td>\n",
       "    </tr>\n",
       "  </tbody>\n",
       "</table>\n",
       "</div>"
      ],
      "text/plain": [
       "         START_DATE          END_DATE  CATEGORY  MILES          PURPOSE\n",
       "0  01-01-2016 21:11  01-01-2016 21:17  Business    5.1   Meal/Entertain\n",
       "1  01-02-2016 01:25  01-02-2016 01:37  Business    5.0              NaN\n",
       "2  01-02-2016 20:25  01-02-2016 20:38  Business    4.8  Errand/Supplies\n",
       "3  01-05-2016 17:31  01-05-2016 17:45  Business    4.7          Meeting\n",
       "4  01-06-2016 14:42  01-06-2016 15:49  Business   63.7   Customer Visit"
      ]
     },
     "execution_count": 71,
     "metadata": {},
     "output_type": "execute_result"
    }
   ],
   "source": [
    "df.head()"
   ]
  },
  {
   "cell_type": "code",
   "execution_count": 72,
   "id": "6185908f-8a1f-4146-9779-222a7861d37f",
   "metadata": {},
   "outputs": [],
   "source": [
    "df = df.drop(columns=['START_DATE', 'END_DATE'])"
   ]
  },
  {
   "cell_type": "code",
   "execution_count": 73,
   "id": "8d6b1cb9-61b6-4037-94b2-17d1b4a2f750",
   "metadata": {},
   "outputs": [
    {
     "data": {
      "text/html": [
       "<div>\n",
       "<style scoped>\n",
       "    .dataframe tbody tr th:only-of-type {\n",
       "        vertical-align: middle;\n",
       "    }\n",
       "\n",
       "    .dataframe tbody tr th {\n",
       "        vertical-align: top;\n",
       "    }\n",
       "\n",
       "    .dataframe thead th {\n",
       "        text-align: right;\n",
       "    }\n",
       "</style>\n",
       "<table border=\"1\" class=\"dataframe\">\n",
       "  <thead>\n",
       "    <tr style=\"text-align: right;\">\n",
       "      <th></th>\n",
       "      <th>CATEGORY</th>\n",
       "      <th>MILES</th>\n",
       "      <th>PURPOSE</th>\n",
       "    </tr>\n",
       "  </thead>\n",
       "  <tbody>\n",
       "    <tr>\n",
       "      <th>0</th>\n",
       "      <td>Business</td>\n",
       "      <td>5.1</td>\n",
       "      <td>Meal/Entertain</td>\n",
       "    </tr>\n",
       "    <tr>\n",
       "      <th>1</th>\n",
       "      <td>Business</td>\n",
       "      <td>5.0</td>\n",
       "      <td>NaN</td>\n",
       "    </tr>\n",
       "    <tr>\n",
       "      <th>2</th>\n",
       "      <td>Business</td>\n",
       "      <td>4.8</td>\n",
       "      <td>Errand/Supplies</td>\n",
       "    </tr>\n",
       "    <tr>\n",
       "      <th>3</th>\n",
       "      <td>Business</td>\n",
       "      <td>4.7</td>\n",
       "      <td>Meeting</td>\n",
       "    </tr>\n",
       "    <tr>\n",
       "      <th>4</th>\n",
       "      <td>Business</td>\n",
       "      <td>63.7</td>\n",
       "      <td>Customer Visit</td>\n",
       "    </tr>\n",
       "  </tbody>\n",
       "</table>\n",
       "</div>"
      ],
      "text/plain": [
       "   CATEGORY  MILES          PURPOSE\n",
       "0  Business    5.1   Meal/Entertain\n",
       "1  Business    5.0              NaN\n",
       "2  Business    4.8  Errand/Supplies\n",
       "3  Business    4.7          Meeting\n",
       "4  Business   63.7   Customer Visit"
      ]
     },
     "execution_count": 73,
     "metadata": {},
     "output_type": "execute_result"
    }
   ],
   "source": [
    "df.head()"
   ]
  },
  {
   "cell_type": "code",
   "execution_count": 74,
   "id": "d21254ce-041f-4ee2-8900-e36e8cc4f89a",
   "metadata": {},
   "outputs": [
    {
     "data": {
      "text/html": [
       "<div>\n",
       "<style scoped>\n",
       "    .dataframe tbody tr th:only-of-type {\n",
       "        vertical-align: middle;\n",
       "    }\n",
       "\n",
       "    .dataframe tbody tr th {\n",
       "        vertical-align: top;\n",
       "    }\n",
       "\n",
       "    .dataframe thead th {\n",
       "        text-align: right;\n",
       "    }\n",
       "</style>\n",
       "<table border=\"1\" class=\"dataframe\">\n",
       "  <thead>\n",
       "    <tr style=\"text-align: right;\">\n",
       "      <th></th>\n",
       "      <th>MILES</th>\n",
       "    </tr>\n",
       "  </thead>\n",
       "  <tbody>\n",
       "    <tr>\n",
       "      <th>count</th>\n",
       "      <td>1156.000000</td>\n",
       "    </tr>\n",
       "    <tr>\n",
       "      <th>mean</th>\n",
       "      <td>21.115398</td>\n",
       "    </tr>\n",
       "    <tr>\n",
       "      <th>std</th>\n",
       "      <td>359.299007</td>\n",
       "    </tr>\n",
       "    <tr>\n",
       "      <th>min</th>\n",
       "      <td>0.500000</td>\n",
       "    </tr>\n",
       "    <tr>\n",
       "      <th>25%</th>\n",
       "      <td>2.900000</td>\n",
       "    </tr>\n",
       "    <tr>\n",
       "      <th>50%</th>\n",
       "      <td>6.000000</td>\n",
       "    </tr>\n",
       "    <tr>\n",
       "      <th>75%</th>\n",
       "      <td>10.400000</td>\n",
       "    </tr>\n",
       "    <tr>\n",
       "      <th>max</th>\n",
       "      <td>12204.700000</td>\n",
       "    </tr>\n",
       "  </tbody>\n",
       "</table>\n",
       "</div>"
      ],
      "text/plain": [
       "              MILES\n",
       "count   1156.000000\n",
       "mean      21.115398\n",
       "std      359.299007\n",
       "min        0.500000\n",
       "25%        2.900000\n",
       "50%        6.000000\n",
       "75%       10.400000\n",
       "max    12204.700000"
      ]
     },
     "execution_count": 74,
     "metadata": {},
     "output_type": "execute_result"
    }
   ],
   "source": [
    "df.describe()"
   ]
  },
  {
   "cell_type": "code",
   "execution_count": 75,
   "id": "2dccc33f-d8ab-4351-8150-0c843d1a8a4f",
   "metadata": {},
   "outputs": [
    {
     "name": "stdout",
     "output_type": "stream",
     "text": [
      "<class 'pandas.core.frame.DataFrame'>\n",
      "RangeIndex: 1156 entries, 0 to 1155\n",
      "Data columns (total 3 columns):\n",
      " #   Column    Non-Null Count  Dtype  \n",
      "---  ------    --------------  -----  \n",
      " 0   CATEGORY  1155 non-null   object \n",
      " 1   MILES     1156 non-null   float64\n",
      " 2   PURPOSE   653 non-null    object \n",
      "dtypes: float64(1), object(2)\n",
      "memory usage: 27.2+ KB\n"
     ]
    }
   ],
   "source": [
    "df.info()"
   ]
  },
  {
   "cell_type": "code",
   "execution_count": 76,
   "id": "d303b27c-b95f-458d-a609-b531c61be27b",
   "metadata": {},
   "outputs": [
    {
     "data": {
      "text/plain": [
       "CATEGORY      1\n",
       "MILES         0\n",
       "PURPOSE     503\n",
       "dtype: int64"
      ]
     },
     "execution_count": 76,
     "metadata": {},
     "output_type": "execute_result"
    }
   ],
   "source": [
    "df.isnull().sum()"
   ]
  },
  {
   "cell_type": "code",
   "execution_count": 77,
   "id": "7369c80d-2b17-4dbd-a0e4-45ab9fcf8063",
   "metadata": {},
   "outputs": [],
   "source": [
    "df = df.drop(columns=['PURPOSE'])"
   ]
  },
  {
   "cell_type": "code",
   "execution_count": 78,
   "id": "7d4b6792-ca11-4426-afe0-661c5ae36f0a",
   "metadata": {},
   "outputs": [
    {
     "data": {
      "text/html": [
       "<div>\n",
       "<style scoped>\n",
       "    .dataframe tbody tr th:only-of-type {\n",
       "        vertical-align: middle;\n",
       "    }\n",
       "\n",
       "    .dataframe tbody tr th {\n",
       "        vertical-align: top;\n",
       "    }\n",
       "\n",
       "    .dataframe thead th {\n",
       "        text-align: right;\n",
       "    }\n",
       "</style>\n",
       "<table border=\"1\" class=\"dataframe\">\n",
       "  <thead>\n",
       "    <tr style=\"text-align: right;\">\n",
       "      <th></th>\n",
       "      <th>CATEGORY</th>\n",
       "      <th>MILES</th>\n",
       "    </tr>\n",
       "  </thead>\n",
       "  <tbody>\n",
       "    <tr>\n",
       "      <th>0</th>\n",
       "      <td>Business</td>\n",
       "      <td>5.1</td>\n",
       "    </tr>\n",
       "    <tr>\n",
       "      <th>1</th>\n",
       "      <td>Business</td>\n",
       "      <td>5.0</td>\n",
       "    </tr>\n",
       "    <tr>\n",
       "      <th>2</th>\n",
       "      <td>Business</td>\n",
       "      <td>4.8</td>\n",
       "    </tr>\n",
       "    <tr>\n",
       "      <th>3</th>\n",
       "      <td>Business</td>\n",
       "      <td>4.7</td>\n",
       "    </tr>\n",
       "    <tr>\n",
       "      <th>4</th>\n",
       "      <td>Business</td>\n",
       "      <td>63.7</td>\n",
       "    </tr>\n",
       "  </tbody>\n",
       "</table>\n",
       "</div>"
      ],
      "text/plain": [
       "   CATEGORY  MILES\n",
       "0  Business    5.1\n",
       "1  Business    5.0\n",
       "2  Business    4.8\n",
       "3  Business    4.7\n",
       "4  Business   63.7"
      ]
     },
     "execution_count": 78,
     "metadata": {},
     "output_type": "execute_result"
    }
   ],
   "source": [
    "df.head()"
   ]
  },
  {
   "cell_type": "code",
   "execution_count": 79,
   "id": "bc1db808-2036-41d3-b354-ea77d36dd748",
   "metadata": {},
   "outputs": [],
   "source": [
    "from sklearn.preprocessing import LabelEncoder"
   ]
  },
  {
   "cell_type": "code",
   "execution_count": 80,
   "id": "c5469393-8741-4da1-be48-6502ccdd5dbe",
   "metadata": {},
   "outputs": [],
   "source": [
    "LabelHot = LabelEncoder()"
   ]
  },
  {
   "cell_type": "code",
   "execution_count": 81,
   "id": "fcb7a7e0-4dd6-4041-8c02-f9f38d9f7afb",
   "metadata": {},
   "outputs": [],
   "source": [
    "df['CATEGORY'] = LabelHot.fit_transform(df['CATEGORY'])"
   ]
  },
  {
   "cell_type": "code",
   "execution_count": 82,
   "id": "ff1c8121-62a1-47fc-adf1-e47242678b5d",
   "metadata": {},
   "outputs": [
    {
     "name": "stdout",
     "output_type": "stream",
     "text": [
      "{'Business': 0, 'Personal': 1, nan: 2}\n"
     ]
    }
   ],
   "source": [
    "mapping = dict(zip(LabelHot.classes_, LabelHot.transform(LabelHot.classes_)))\n",
    "print(mapping)"
   ]
  },
  {
   "cell_type": "code",
   "execution_count": 83,
   "id": "19fcc645-8e75-4660-a77a-1b920c8d3006",
   "metadata": {},
   "outputs": [
    {
     "data": {
      "text/html": [
       "<div>\n",
       "<style scoped>\n",
       "    .dataframe tbody tr th:only-of-type {\n",
       "        vertical-align: middle;\n",
       "    }\n",
       "\n",
       "    .dataframe tbody tr th {\n",
       "        vertical-align: top;\n",
       "    }\n",
       "\n",
       "    .dataframe thead th {\n",
       "        text-align: right;\n",
       "    }\n",
       "</style>\n",
       "<table border=\"1\" class=\"dataframe\">\n",
       "  <thead>\n",
       "    <tr style=\"text-align: right;\">\n",
       "      <th></th>\n",
       "      <th>CATEGORY</th>\n",
       "      <th>MILES</th>\n",
       "    </tr>\n",
       "  </thead>\n",
       "  <tbody>\n",
       "    <tr>\n",
       "      <th>0</th>\n",
       "      <td>0</td>\n",
       "      <td>5.1</td>\n",
       "    </tr>\n",
       "    <tr>\n",
       "      <th>1</th>\n",
       "      <td>0</td>\n",
       "      <td>5.0</td>\n",
       "    </tr>\n",
       "    <tr>\n",
       "      <th>2</th>\n",
       "      <td>0</td>\n",
       "      <td>4.8</td>\n",
       "    </tr>\n",
       "    <tr>\n",
       "      <th>3</th>\n",
       "      <td>0</td>\n",
       "      <td>4.7</td>\n",
       "    </tr>\n",
       "    <tr>\n",
       "      <th>4</th>\n",
       "      <td>0</td>\n",
       "      <td>63.7</td>\n",
       "    </tr>\n",
       "  </tbody>\n",
       "</table>\n",
       "</div>"
      ],
      "text/plain": [
       "   CATEGORY  MILES\n",
       "0         0    5.1\n",
       "1         0    5.0\n",
       "2         0    4.8\n",
       "3         0    4.7\n",
       "4         0   63.7"
      ]
     },
     "execution_count": 83,
     "metadata": {},
     "output_type": "execute_result"
    }
   ],
   "source": [
    "df.head()"
   ]
  },
  {
   "cell_type": "code",
   "execution_count": 84,
   "id": "10be0bcd-dfed-4090-8d42-8ba5e5a292be",
   "metadata": {},
   "outputs": [
    {
     "data": {
      "text/html": [
       "<div>\n",
       "<style scoped>\n",
       "    .dataframe tbody tr th:only-of-type {\n",
       "        vertical-align: middle;\n",
       "    }\n",
       "\n",
       "    .dataframe tbody tr th {\n",
       "        vertical-align: top;\n",
       "    }\n",
       "\n",
       "    .dataframe thead th {\n",
       "        text-align: right;\n",
       "    }\n",
       "</style>\n",
       "<table border=\"1\" class=\"dataframe\">\n",
       "  <thead>\n",
       "    <tr style=\"text-align: right;\">\n",
       "      <th></th>\n",
       "      <th>CATEGORY</th>\n",
       "      <th>MILES</th>\n",
       "    </tr>\n",
       "  </thead>\n",
       "  <tbody>\n",
       "    <tr>\n",
       "      <th>CATEGORY</th>\n",
       "      <td>1.000000</td>\n",
       "      <td>0.220952</td>\n",
       "    </tr>\n",
       "    <tr>\n",
       "      <th>MILES</th>\n",
       "      <td>0.220952</td>\n",
       "      <td>1.000000</td>\n",
       "    </tr>\n",
       "  </tbody>\n",
       "</table>\n",
       "</div>"
      ],
      "text/plain": [
       "          CATEGORY     MILES\n",
       "CATEGORY  1.000000  0.220952\n",
       "MILES     0.220952  1.000000"
      ]
     },
     "execution_count": 84,
     "metadata": {},
     "output_type": "execute_result"
    }
   ],
   "source": [
    "df.corr()"
   ]
  },
  {
   "cell_type": "code",
   "execution_count": 85,
   "id": "6dea0d2e-f617-4331-9f9c-24838a137da9",
   "metadata": {},
   "outputs": [
    {
     "data": {
      "text/plain": [
       "array([[<Axes: title={'center': 'CATEGORY'}>,\n",
       "        <Axes: title={'center': 'MILES'}>]], dtype=object)"
      ]
     },
     "execution_count": 85,
     "metadata": {},
     "output_type": "execute_result"
    },
    {
     "data": {
      "image/png": "[encoded data removed]",
      "text/plain": [
       "<Figure size 640x480 with 2 Axes>"
      ]
     },
     "metadata": {},
     "output_type": "display_data"
    }
   ],
   "source": [
    "df.hist()"
   ]
  },
  {
   "cell_type": "code",
   "execution_count": 86,
   "id": "3c935e3b-2010-407a-8920-f569233cc9f7",
   "metadata": {},
   "outputs": [],
   "source": [
    "import pandas as pd\n",
    "\n",
    "def calculate_price(df,miles_column):\n",
    "    df.loc[df['CATEGORY'] == 0, 'Price INR'] = df['MILES'] * 5 * 90\n",
    "    \n",
    "    df.loc[df['CATEGORY'] != 0, 'Price INR'] = df['MILES'] * 7 * 90\n",
    "    \n",
    "    return df['Price INR']"
   ]
  },
  {
   "cell_type": "code",
   "execution_count": 87,
   "id": "79a4ca90-622d-46ac-a966-089213293836",
   "metadata": {},
   "outputs": [],
   "source": [
    "df['Price INR'] = calculate_price(df, df['MILES'])"
   ]
  },
  {
   "cell_type": "code",
   "execution_count": 88,
   "id": "e602731a-6830-4a6b-9943-f934105306f8",
   "metadata": {},
   "outputs": [
    {
     "data": {
      "text/html": [
       "<div>\n",
       "<style scoped>\n",
       "    .dataframe tbody tr th:only-of-type {\n",
       "        vertical-align: middle;\n",
       "    }\n",
       "\n",
       "    .dataframe tbody tr th {\n",
       "        vertical-align: top;\n",
       "    }\n",
       "\n",
       "    .dataframe thead th {\n",
       "        text-align: right;\n",
       "    }\n",
       "</style>\n",
       "<table border=\"1\" class=\"dataframe\">\n",
       "  <thead>\n",
       "    <tr style=\"text-align: right;\">\n",
       "      <th></th>\n",
       "      <th>CATEGORY</th>\n",
       "      <th>MILES</th>\n",
       "      <th>Price INR</th>\n",
       "    </tr>\n",
       "  </thead>\n",
       "  <tbody>\n",
       "    <tr>\n",
       "      <th>0</th>\n",
       "      <td>0</td>\n",
       "      <td>5.1</td>\n",
       "      <td>2295.0</td>\n",
       "    </tr>\n",
       "    <tr>\n",
       "      <th>1</th>\n",
       "      <td>0</td>\n",
       "      <td>5.0</td>\n",
       "      <td>2250.0</td>\n",
       "    </tr>\n",
       "    <tr>\n",
       "      <th>2</th>\n",
       "      <td>0</td>\n",
       "      <td>4.8</td>\n",
       "      <td>2160.0</td>\n",
       "    </tr>\n",
       "    <tr>\n",
       "      <th>3</th>\n",
       "      <td>0</td>\n",
       "      <td>4.7</td>\n",
       "      <td>2115.0</td>\n",
       "    </tr>\n",
       "    <tr>\n",
       "      <th>4</th>\n",
       "      <td>0</td>\n",
       "      <td>63.7</td>\n",
       "      <td>28665.0</td>\n",
       "    </tr>\n",
       "  </tbody>\n",
       "</table>\n",
       "</div>"
      ],
      "text/plain": [
       "   CATEGORY  MILES  Price INR\n",
       "0         0    5.1     2295.0\n",
       "1         0    5.0     2250.0\n",
       "2         0    4.8     2160.0\n",
       "3         0    4.7     2115.0\n",
       "4         0   63.7    28665.0"
      ]
     },
     "execution_count": 88,
     "metadata": {},
     "output_type": "execute_result"
    }
   ],
   "source": [
    "df.head()\n"
   ]
  },
  {
   "cell_type": "code",
   "execution_count": 89,
   "id": "7eee0fec-c2f7-4925-8192-1b809c424499",
   "metadata": {},
   "outputs": [
    {
     "data": {
      "text/plain": [
       "<matplotlib.collections.PathCollection at 0x74445ddc2330>"
      ]
     },
     "execution_count": 89,
     "metadata": {},
     "output_type": "execute_result"
    },
    {
     "data": {
      "image/png": "[encoded data removed]",
      "text/plain": [
       "<Figure size 640x480 with 1 Axes>"
      ]
     },
     "metadata": {},
     "output_type": "display_data"
    }
   ],
   "source": [
    "plt.scatter(df['MILES'],df['Price INR'])"
   ]
  },
  {
   "cell_type": "code",
   "execution_count": 90,
   "id": "e0f246d0-6d28-4cf0-acd4-eba84e241f8f",
   "metadata": {},
   "outputs": [],
   "source": [
    "import seaborn as sns"
   ]
  },
  {
   "cell_type": "code",
   "execution_count": 91,
   "id": "2d512fa5-99f4-407b-aede-27e0d3332738",
   "metadata": {},
   "outputs": [
    {
     "data": {
      "text/plain": [
       "<Axes: xlabel='Price INR', ylabel='MILES'>"
      ]
     },
     "execution_count": 91,
     "metadata": {},
     "output_type": "execute_result"
    },
    {
     "data": {
      "image/png": "[encoded data removed]",
      "text/plain": [
       "<Figure size 640x480 with 1 Axes>"
      ]
     },
     "metadata": {},
     "output_type": "display_data"
    }
   ],
   "source": [
    "sns.regplot(x='Price INR',y='MILES',data=df)"
   ]
  },
  {
   "cell_type": "markdown",
   "id": "4c6c80b6-ab8a-4498-bd3e-b1e2e19126cb",
   "metadata": {},
   "source": [
    "## DATA BIFERCATION"
   ]
  },
  {
   "cell_type": "code",
   "execution_count": 92,
   "id": "4cf84808-f22a-4f80-b5d4-55916ed00269",
   "metadata": {},
   "outputs": [
    {
     "data": {
      "text/html": [
       "<div>\n",
       "<style scoped>\n",
       "    .dataframe tbody tr th:only-of-type {\n",
       "        vertical-align: middle;\n",
       "    }\n",
       "\n",
       "    .dataframe tbody tr th {\n",
       "        vertical-align: top;\n",
       "    }\n",
       "\n",
       "    .dataframe thead th {\n",
       "        text-align: right;\n",
       "    }\n",
       "</style>\n",
       "<table border=\"1\" class=\"dataframe\">\n",
       "  <thead>\n",
       "    <tr style=\"text-align: right;\">\n",
       "      <th></th>\n",
       "      <th>CATEGORY</th>\n",
       "      <th>MILES</th>\n",
       "      <th>Price INR</th>\n",
       "    </tr>\n",
       "  </thead>\n",
       "  <tbody>\n",
       "    <tr>\n",
       "      <th>0</th>\n",
       "      <td>0</td>\n",
       "      <td>5.1</td>\n",
       "      <td>2295.0</td>\n",
       "    </tr>\n",
       "    <tr>\n",
       "      <th>1</th>\n",
       "      <td>0</td>\n",
       "      <td>5.0</td>\n",
       "      <td>2250.0</td>\n",
       "    </tr>\n",
       "    <tr>\n",
       "      <th>2</th>\n",
       "      <td>0</td>\n",
       "      <td>4.8</td>\n",
       "      <td>2160.0</td>\n",
       "    </tr>\n",
       "    <tr>\n",
       "      <th>3</th>\n",
       "      <td>0</td>\n",
       "      <td>4.7</td>\n",
       "      <td>2115.0</td>\n",
       "    </tr>\n",
       "    <tr>\n",
       "      <th>4</th>\n",
       "      <td>0</td>\n",
       "      <td>63.7</td>\n",
       "      <td>28665.0</td>\n",
       "    </tr>\n",
       "  </tbody>\n",
       "</table>\n",
       "</div>"
      ],
      "text/plain": [
       "   CATEGORY  MILES  Price INR\n",
       "0         0    5.1     2295.0\n",
       "1         0    5.0     2250.0\n",
       "2         0    4.8     2160.0\n",
       "3         0    4.7     2115.0\n",
       "4         0   63.7    28665.0"
      ]
     },
     "execution_count": 92,
     "metadata": {},
     "output_type": "execute_result"
    }
   ],
   "source": [
    "df.head()"
   ]
  },
  {
   "cell_type": "code",
   "execution_count": 93,
   "id": "d5134782-4320-46e3-833d-ce92bc2d48cf",
   "metadata": {},
   "outputs": [],
   "source": [
    "X = df.drop(columns=['Price INR'])"
   ]
  },
  {
   "cell_type": "code",
   "execution_count": 94,
   "id": "d965caba-8eb7-4850-bcfb-91450503ad46",
   "metadata": {},
   "outputs": [],
   "source": [
    "Y = df['Price INR']"
   ]
  },
  {
   "cell_type": "code",
   "execution_count": 95,
   "id": "da63cab4-e6cc-4970-9242-b7bb9abd4110",
   "metadata": {},
   "outputs": [
    {
     "data": {
      "text/html": [
       "<div>\n",
       "<style scoped>\n",
       "    .dataframe tbody tr th:only-of-type {\n",
       "        vertical-align: middle;\n",
       "    }\n",
       "\n",
       "    .dataframe tbody tr th {\n",
       "        vertical-align: top;\n",
       "    }\n",
       "\n",
       "    .dataframe thead th {\n",
       "        text-align: right;\n",
       "    }\n",
       "</style>\n",
       "<table border=\"1\" class=\"dataframe\">\n",
       "  <thead>\n",
       "    <tr style=\"text-align: right;\">\n",
       "      <th></th>\n",
       "      <th>CATEGORY</th>\n",
       "      <th>MILES</th>\n",
       "    </tr>\n",
       "  </thead>\n",
       "  <tbody>\n",
       "    <tr>\n",
       "      <th>0</th>\n",
       "      <td>0</td>\n",
       "      <td>5.1</td>\n",
       "    </tr>\n",
       "    <tr>\n",
       "      <th>1</th>\n",
       "      <td>0</td>\n",
       "      <td>5.0</td>\n",
       "    </tr>\n",
       "    <tr>\n",
       "      <th>2</th>\n",
       "      <td>0</td>\n",
       "      <td>4.8</td>\n",
       "    </tr>\n",
       "    <tr>\n",
       "      <th>3</th>\n",
       "      <td>0</td>\n",
       "      <td>4.7</td>\n",
       "    </tr>\n",
       "    <tr>\n",
       "      <th>4</th>\n",
       "      <td>0</td>\n",
       "      <td>63.7</td>\n",
       "    </tr>\n",
       "  </tbody>\n",
       "</table>\n",
       "</div>"
      ],
      "text/plain": [
       "   CATEGORY  MILES\n",
       "0         0    5.1\n",
       "1         0    5.0\n",
       "2         0    4.8\n",
       "3         0    4.7\n",
       "4         0   63.7"
      ]
     },
     "execution_count": 95,
     "metadata": {},
     "output_type": "execute_result"
    }
   ],
   "source": [
    "X.head()"
   ]
  },
  {
   "cell_type": "code",
   "execution_count": 96,
   "id": "fd1a4946-ed64-4866-8a2e-da726b8f304d",
   "metadata": {},
   "outputs": [
    {
     "data": {
      "text/plain": [
       "0     2295.0\n",
       "1     2250.0\n",
       "2     2160.0\n",
       "3     2115.0\n",
       "4    28665.0\n",
       "Name: Price INR, dtype: float64"
      ]
     },
     "execution_count": 96,
     "metadata": {},
     "output_type": "execute_result"
    }
   ],
   "source": [
    "Y.head()"
   ]
  },
  {
   "cell_type": "markdown",
   "id": "c0f57530-9df2-4a0f-bc92-700aadc2ed08",
   "metadata": {},
   "source": [
    "## TRAIN TEST SPILLITING"
   ]
  },
  {
   "cell_type": "code",
   "execution_count": 97,
   "id": "a67af801-96b0-43d4-9c88-6d8c5694c95b",
   "metadata": {},
   "outputs": [],
   "source": [
    "from sklearn.model_selection import train_test_split"
   ]
  },
  {
   "cell_type": "code",
   "execution_count": 98,
   "id": "fdb2b0c2-0c25-4c03-8835-150d2e93653f",
   "metadata": {},
   "outputs": [],
   "source": [
    "X_train,X_test,Y_train,Y_test = train_test_split(X,Y,test_size=0.2,random_state=42)"
   ]
  },
  {
   "cell_type": "code",
   "execution_count": 99,
   "id": "f13c08a4-d234-49ae-a98e-3341ce1b041b",
   "metadata": {},
   "outputs": [
    {
     "data": {
      "text/html": [
       "<div>\n",
       "<style scoped>\n",
       "    .dataframe tbody tr th:only-of-type {\n",
       "        vertical-align: middle;\n",
       "    }\n",
       "\n",
       "    .dataframe tbody tr th {\n",
       "        vertical-align: top;\n",
       "    }\n",
       "\n",
       "    .dataframe thead th {\n",
       "        text-align: right;\n",
       "    }\n",
       "</style>\n",
       "<table border=\"1\" class=\"dataframe\">\n",
       "  <thead>\n",
       "    <tr style=\"text-align: right;\">\n",
       "      <th></th>\n",
       "      <th>CATEGORY</th>\n",
       "      <th>MILES</th>\n",
       "    </tr>\n",
       "  </thead>\n",
       "  <tbody>\n",
       "    <tr>\n",
       "      <th>58</th>\n",
       "      <td>0</td>\n",
       "      <td>5.5</td>\n",
       "    </tr>\n",
       "    <tr>\n",
       "      <th>333</th>\n",
       "      <td>0</td>\n",
       "      <td>4.8</td>\n",
       "    </tr>\n",
       "    <tr>\n",
       "      <th>332</th>\n",
       "      <td>0</td>\n",
       "      <td>4.9</td>\n",
       "    </tr>\n",
       "    <tr>\n",
       "      <th>922</th>\n",
       "      <td>0</td>\n",
       "      <td>11.4</td>\n",
       "    </tr>\n",
       "    <tr>\n",
       "      <th>63</th>\n",
       "      <td>0</td>\n",
       "      <td>3.9</td>\n",
       "    </tr>\n",
       "  </tbody>\n",
       "</table>\n",
       "</div>"
      ],
      "text/plain": [
       "     CATEGORY  MILES\n",
       "58          0    5.5\n",
       "333         0    4.8\n",
       "332         0    4.9\n",
       "922         0   11.4\n",
       "63          0    3.9"
      ]
     },
     "execution_count": 99,
     "metadata": {},
     "output_type": "execute_result"
    }
   ],
   "source": [
    "X_train.head()"
   ]
  },
  {
   "cell_type": "code",
   "execution_count": 100,
   "id": "7c40661e-91f5-4139-843d-ea51b9623eca",
   "metadata": {},
   "outputs": [
    {
     "data": {
      "text/plain": [
       "58     2475.0\n",
       "333    2160.0\n",
       "332    2205.0\n",
       "922    5130.0\n",
       "63     1755.0\n",
       "Name: Price INR, dtype: float64"
      ]
     },
     "execution_count": 100,
     "metadata": {},
     "output_type": "execute_result"
    }
   ],
   "source": [
    "Y_train.head()"
   ]
  },
  {
   "cell_type": "markdown",
   "id": "80186d98-9939-4ca1-b6a1-891164e8c171",
   "metadata": {},
   "source": [
    "## MODEL TRAINING"
   ]
  },
  {
   "cell_type": "code",
   "execution_count": 101,
   "id": "693e8699-2081-4182-a621-949a0477e76f",
   "metadata": {},
   "outputs": [],
   "source": [
    "from sklearn.linear_model import LinearRegression"
   ]
  },
  {
   "cell_type": "code",
   "execution_count": 102,
   "id": "fcb4b530-13bc-4ede-a4f7-cf5fceb9f699",
   "metadata": {},
   "outputs": [],
   "source": [
    "Linear = LinearRegression()"
   ]
  },
  {
   "cell_type": "code",
   "execution_count": 103,
   "id": "d0293b8b-f9a4-4a25-ae73-e402b9b76d3d",
   "metadata": {},
   "outputs": [
    {
     "data": {
      "text/html": [
       "<style>#sk-container-id-2 {\n",
       "  /* Definition of color scheme common for light and dark mode */\n",
       "  --sklearn-color-text: black;\n",
       "  --sklearn-color-line: gray;\n",
       "  /* Definition of color scheme for unfitted estimators */\n",
       "  --sklearn-color-unfitted-level-0: #fff5e6;\n",
       "  --sklearn-color-unfitted-level-1: #f6e4d2;\n",
       "  --sklearn-color-unfitted-level-2: #ffe0b3;\n",
       "  --sklearn-color-unfitted-level-3: chocolate;\n",
       "  /* Definition of color scheme for fitted estimators */\n",
       "  --sklearn-color-fitted-level-0: #f0f8ff;\n",
       "  --sklearn-color-fitted-level-1: #d4ebff;\n",
       "  --sklearn-color-fitted-level-2: #b3dbfd;\n",
       "  --sklearn-color-fitted-level-3: cornflowerblue;\n",
       "\n",
       "  /* Specific color for light theme */\n",
       "  --sklearn-color-text-on-default-background: var(--sg-text-color, var(--theme-code-foreground, var(--jp-content-font-color1, black)));\n",
       "  --sklearn-color-background: var(--sg-background-color, var(--theme-background, var(--jp-layout-color0, white)));\n",
       "  --sklearn-color-border-box: var(--sg-text-color, var(--theme-code-foreground, var(--jp-content-font-color1, black)));\n",
       "  --sklearn-color-icon: #696969;\n",
       "\n",
       "  @media (prefers-color-scheme: dark) {\n",
       "    /* Redefinition of color scheme for dark theme */\n",
       "    --sklearn-color-text-on-default-background: var(--sg-text-color, var(--theme-code-foreground, var(--jp-content-font-color1, white)));\n",
       "    --sklearn-color-background: var(--sg-background-color, var(--theme-background, var(--jp-layout-color0, #111)));\n",
       "    --sklearn-color-border-box: var(--sg-text-color, var(--theme-code-foreground, var(--jp-content-font-color1, white)));\n",
       "    --sklearn-color-icon: #878787;\n",
       "  }\n",
       "}\n",
       "\n",
       "#sk-container-id-2 {\n",
       "  color: var(--sklearn-color-text);\n",
       "}\n",
       "\n",
       "#sk-container-id-2 pre {\n",
       "  padding: 0;\n",
       "}\n",
       "\n",
       "#sk-container-id-2 input.sk-hidden--visually {\n",
       "  border: 0;\n",
       "  clip: rect(1px 1px 1px 1px);\n",
       "  clip: rect(1px, 1px, 1px, 1px);\n",
       "  height: 1px;\n",
       "  margin: -1px;\n",
       "  overflow: hidden;\n",
       "  padding: 0;\n",
       "  position: absolute;\n",
       "  width: 1px;\n",
       "}\n",
       "\n",
       "#sk-container-id-2 div.sk-dashed-wrapped {\n",
       "  border: 1px dashed var(--sklearn-color-line);\n",
       "  margin: 0 0.4em 0.5em 0.4em;\n",
       "  box-sizing: border-box;\n",
       "  padding-bottom: 0.4em;\n",
       "  background-color: var(--sklearn-color-background);\n",
       "}\n",
       "\n",
       "#sk-container-id-2 div.sk-container {\n",
       "  /* jupyter's `normalize.less` sets `[hidden] { display: none; }`\n",
       "     but bootstrap.min.css set `[hidden] { display: none !important; }`\n",
       "     so we also need the `!important` here to be able to override the\n",
       "     default hidden behavior on the sphinx rendered scikit-learn.org.\n",
       "     See: https://github.com/scikit-learn/scikit-learn/issues/21755 */\n",
       "  display: inline-block !important;\n",
       "  position: relative;\n",
       "}\n",
       "\n",
       "#sk-container-id-2 div.sk-text-repr-fallback {\n",
       "  display: none;\n",
       "}\n",
       "\n",
       "div.sk-parallel-item,\n",
       "div.sk-serial,\n",
       "div.sk-item {\n",
       "  /* draw centered vertical line to link estimators */\n",
       "  background-image: linear-gradient(var(--sklearn-color-text-on-default-background), var(--sklearn-color-text-on-default-background));\n",
       "  background-size: 2px 100%;\n",
       "  background-repeat: no-repeat;\n",
       "  background-position: center center;\n",
       "}\n",
       "\n",
       "/* Parallel-specific style estimator block */\n",
       "\n",
       "#sk-container-id-2 div.sk-parallel-item::after {\n",
       "  content: \"\";\n",
       "  width: 100%;\n",
       "  border-bottom: 2px solid var(--sklearn-color-text-on-default-background);\n",
       "  flex-grow: 1;\n",
       "}\n",
       "\n",
       "#sk-container-id-2 div.sk-parallel {\n",
       "  display: flex;\n",
       "  align-items: stretch;\n",
       "  justify-content: center;\n",
       "  background-color: var(--sklearn-color-background);\n",
       "  position: relative;\n",
       "}\n",
       "\n",
       "#sk-container-id-2 div.sk-parallel-item {\n",
       "  display: flex;\n",
       "  flex-direction: column;\n",
       "}\n",
       "\n",
       "#sk-container-id-2 div.sk-parallel-item:first-child::after {\n",
       "  align-self: flex-end;\n",
       "  width: 50%;\n",
       "}\n",
       "\n",
       "#sk-container-id-2 div.sk-parallel-item:last-child::after {\n",
       "  align-self: flex-start;\n",
       "  width: 50%;\n",
       "}\n",
       "\n",
       "#sk-container-id-2 div.sk-parallel-item:only-child::after {\n",
       "  width: 0;\n",
       "}\n",
       "\n",
       "/* Serial-specific style estimator block */\n",
       "\n",
       "#sk-container-id-2 div.sk-serial {\n",
       "  display: flex;\n",
       "  flex-direction: column;\n",
       "  align-items: center;\n",
       "  background-color: var(--sklearn-color-background);\n",
       "  padding-right: 1em;\n",
       "  padding-left: 1em;\n",
       "}\n",
       "\n",
       "\n",
       "/* Toggleable style: style used for estimator/Pipeline/ColumnTransformer box that is\n",
       "clickable and can be expanded/collapsed.\n",
       "- Pipeline and ColumnTransformer use this feature and define the default style\n",
       "- Estimators will overwrite some part of the style using the `sk-estimator` class\n",
       "*/\n",
       "\n",
       "/* Pipeline and ColumnTransformer style (default) */\n",
       "\n",
       "#sk-container-id-2 div.sk-toggleable {\n",
       "  /* Default theme specific background. It is overwritten whether we have a\n",
       "  specific estimator or a Pipeline/ColumnTransformer */\n",
       "  background-color: var(--sklearn-color-background);\n",
       "}\n",
       "\n",
       "/* Toggleable label */\n",
       "#sk-container-id-2 label.sk-toggleable__label {\n",
       "  cursor: pointer;\n",
       "  display: block;\n",
       "  width: 100%;\n",
       "  margin-bottom: 0;\n",
       "  padding: 0.5em;\n",
       "  box-sizing: border-box;\n",
       "  text-align: center;\n",
       "}\n",
       "\n",
       "#sk-container-id-2 label.sk-toggleable__label-arrow:before {\n",
       "  /* Arrow on the left of the label */\n",
       "  content: \"▸\";\n",
       "  float: left;\n",
       "  margin-right: 0.25em;\n",
       "  color: var(--sklearn-color-icon);\n",
       "}\n",
       "\n",
       "#sk-container-id-2 label.sk-toggleable__label-arrow:hover:before {\n",
       "  color: var(--sklearn-color-text);\n",
       "}\n",
       "\n",
       "/* Toggleable content - dropdown */\n",
       "\n",
       "#sk-container-id-2 div.sk-toggleable__content {\n",
       "  max-height: 0;\n",
       "  max-width: 0;\n",
       "  overflow: hidden;\n",
       "  text-align: left;\n",
       "  /* unfitted */\n",
       "  background-color: var(--sklearn-color-unfitted-level-0);\n",
       "}\n",
       "\n",
       "#sk-container-id-2 div.sk-toggleable__content.fitted {\n",
       "  /* fitted */\n",
       "  background-color: var(--sklearn-color-fitted-level-0);\n",
       "}\n",
       "\n",
       "#sk-container-id-2 div.sk-toggleable__content pre {\n",
       "  margin: 0.2em;\n",
       "  border-radius: 0.25em;\n",
       "  color: var(--sklearn-color-text);\n",
       "  /* unfitted */\n",
       "  background-color: var(--sklearn-color-unfitted-level-0);\n",
       "}\n",
       "\n",
       "#sk-container-id-2 div.sk-toggleable__content.fitted pre {\n",
       "  /* unfitted */\n",
       "  background-color: var(--sklearn-color-fitted-level-0);\n",
       "}\n",
       "\n",
       "#sk-container-id-2 input.sk-toggleable__control:checked~div.sk-toggleable__content {\n",
       "  /* Expand drop-down */\n",
       "  max-height: 200px;\n",
       "  max-width: 100%;\n",
       "  overflow: auto;\n",
       "}\n",
       "\n",
       "#sk-container-id-2 input.sk-toggleable__control:checked~label.sk-toggleable__label-arrow:before {\n",
       "  content: \"▾\";\n",
       "}\n",
       "\n",
       "/* Pipeline/ColumnTransformer-specific style */\n",
       "\n",
       "#sk-container-id-2 div.sk-label input.sk-toggleable__control:checked~label.sk-toggleable__label {\n",
       "  color: var(--sklearn-color-text);\n",
       "  background-color: var(--sklearn-color-unfitted-level-2);\n",
       "}\n",
       "\n",
       "#sk-container-id-2 div.sk-label.fitted input.sk-toggleable__control:checked~label.sk-toggleable__label {\n",
       "  background-color: var(--sklearn-color-fitted-level-2);\n",
       "}\n",
       "\n",
       "/* Estimator-specific style */\n",
       "\n",
       "/* Colorize estimator box */\n",
       "#sk-container-id-2 div.sk-estimator input.sk-toggleable__control:checked~label.sk-toggleable__label {\n",
       "  /* unfitted */\n",
       "  background-color: var(--sklearn-color-unfitted-level-2);\n",
       "}\n",
       "\n",
       "#sk-container-id-2 div.sk-estimator.fitted input.sk-toggleable__control:checked~label.sk-toggleable__label {\n",
       "  /* fitted */\n",
       "  background-color: var(--sklearn-color-fitted-level-2);\n",
       "}\n",
       "\n",
       "#sk-container-id-2 div.sk-label label.sk-toggleable__label,\n",
       "#sk-container-id-2 div.sk-label label {\n",
       "  /* The background is the default theme color */\n",
       "  color: var(--sklearn-color-text-on-default-background);\n",
       "}\n",
       "\n",
       "/* On hover, darken the color of the background */\n",
       "#sk-container-id-2 div.sk-label:hover label.sk-toggleable__label {\n",
       "  color: var(--sklearn-color-text);\n",
       "  background-color: var(--sklearn-color-unfitted-level-2);\n",
       "}\n",
       "\n",
       "/* Label box, darken color on hover, fitted */\n",
       "#sk-container-id-2 div.sk-label.fitted:hover label.sk-toggleable__label.fitted {\n",
       "  color: var(--sklearn-color-text);\n",
       "  background-color: var(--sklearn-color-fitted-level-2);\n",
       "}\n",
       "\n",
       "/* Estimator label */\n",
       "\n",
       "#sk-container-id-2 div.sk-label label {\n",
       "  font-family: monospace;\n",
       "  font-weight: bold;\n",
       "  display: inline-block;\n",
       "  line-height: 1.2em;\n",
       "}\n",
       "\n",
       "#sk-container-id-2 div.sk-label-container {\n",
       "  text-align: center;\n",
       "}\n",
       "\n",
       "/* Estimator-specific */\n",
       "#sk-container-id-2 div.sk-estimator {\n",
       "  font-family: monospace;\n",
       "  border: 1px dotted var(--sklearn-color-border-box);\n",
       "  border-radius: 0.25em;\n",
       "  box-sizing: border-box;\n",
       "  margin-bottom: 0.5em;\n",
       "  /* unfitted */\n",
       "  background-color: var(--sklearn-color-unfitted-level-0);\n",
       "}\n",
       "\n",
       "#sk-container-id-2 div.sk-estimator.fitted {\n",
       "  /* fitted */\n",
       "  background-color: var(--sklearn-color-fitted-level-0);\n",
       "}\n",
       "\n",
       "/* on hover */\n",
       "#sk-container-id-2 div.sk-estimator:hover {\n",
       "  /* unfitted */\n",
       "  background-color: var(--sklearn-color-unfitted-level-2);\n",
       "}\n",
       "\n",
       "#sk-container-id-2 div.sk-estimator.fitted:hover {\n",
       "  /* fitted */\n",
       "  background-color: var(--sklearn-color-fitted-level-2);\n",
       "}\n",
       "\n",
       "/* Specification for estimator info (e.g. \"i\" and \"?\") */\n",
       "\n",
       "/* Common style for \"i\" and \"?\" */\n",
       "\n",
       ".sk-estimator-doc-link,\n",
       "a:link.sk-estimator-doc-link,\n",
       "a:visited.sk-estimator-doc-link {\n",
       "  float: right;\n",
       "  font-size: smaller;\n",
       "  line-height: 1em;\n",
       "  font-family: monospace;\n",
       "  background-color: var(--sklearn-color-background);\n",
       "  border-radius: 1em;\n",
       "  height: 1em;\n",
       "  width: 1em;\n",
       "  text-decoration: none !important;\n",
       "  margin-left: 1ex;\n",
       "  /* unfitted */\n",
       "  border: var(--sklearn-color-unfitted-level-1) 1pt solid;\n",
       "  color: var(--sklearn-color-unfitted-level-1);\n",
       "}\n",
       "\n",
       ".sk-estimator-doc-link.fitted,\n",
       "a:link.sk-estimator-doc-link.fitted,\n",
       "a:visited.sk-estimator-doc-link.fitted {\n",
       "  /* fitted */\n",
       "  border: var(--sklearn-color-fitted-level-1) 1pt solid;\n",
       "  color: var(--sklearn-color-fitted-level-1);\n",
       "}\n",
       "\n",
       "/* On hover */\n",
       "div.sk-estimator:hover .sk-estimator-doc-link:hover,\n",
       ".sk-estimator-doc-link:hover,\n",
       "div.sk-label-container:hover .sk-estimator-doc-link:hover,\n",
       ".sk-estimator-doc-link:hover {\n",
       "  /* unfitted */\n",
       "  background-color: var(--sklearn-color-unfitted-level-3);\n",
       "  color: var(--sklearn-color-background);\n",
       "  text-decoration: none;\n",
       "}\n",
       "\n",
       "div.sk-estimator.fitted:hover .sk-estimator-doc-link.fitted:hover,\n",
       ".sk-estimator-doc-link.fitted:hover,\n",
       "div.sk-label-container:hover .sk-estimator-doc-link.fitted:hover,\n",
       ".sk-estimator-doc-link.fitted:hover {\n",
       "  /* fitted */\n",
       "  background-color: var(--sklearn-color-fitted-level-3);\n",
       "  color: var(--sklearn-color-background);\n",
       "  text-decoration: none;\n",
       "}\n",
       "\n",
       "/* Span, style for the box shown on hovering the info icon */\n",
       ".sk-estimator-doc-link span {\n",
       "  display: none;\n",
       "  z-index: 9999;\n",
       "  position: relative;\n",
       "  font-weight: normal;\n",
       "  right: .2ex;\n",
       "  padding: .5ex;\n",
       "  margin: .5ex;\n",
       "  width: min-content;\n",
       "  min-width: 20ex;\n",
       "  max-width: 50ex;\n",
       "  color: var(--sklearn-color-text);\n",
       "  box-shadow: 2pt 2pt 4pt #999;\n",
       "  /* unfitted */\n",
       "  background: var(--sklearn-color-unfitted-level-0);\n",
       "  border: .5pt solid var(--sklearn-color-unfitted-level-3);\n",
       "}\n",
       "\n",
       ".sk-estimator-doc-link.fitted span {\n",
       "  /* fitted */\n",
       "  background: var(--sklearn-color-fitted-level-0);\n",
       "  border: var(--sklearn-color-fitted-level-3);\n",
       "}\n",
       "\n",
       ".sk-estimator-doc-link:hover span {\n",
       "  display: block;\n",
       "}\n",
       "\n",
       "/* \"?\"-specific style due to the `<a>` HTML tag */\n",
       "\n",
       "#sk-container-id-2 a.estimator_doc_link {\n",
       "  float: right;\n",
       "  font-size: 1rem;\n",
       "  line-height: 1em;\n",
       "  font-family: monospace;\n",
       "  background-color: var(--sklearn-color-background);\n",
       "  border-radius: 1rem;\n",
       "  height: 1rem;\n",
       "  width: 1rem;\n",
       "  text-decoration: none;\n",
       "  /* unfitted */\n",
       "  color: var(--sklearn-color-unfitted-level-1);\n",
       "  border: var(--sklearn-color-unfitted-level-1) 1pt solid;\n",
       "}\n",
       "\n",
       "#sk-container-id-2 a.estimator_doc_link.fitted {\n",
       "  /* fitted */\n",
       "  border: var(--sklearn-color-fitted-level-1) 1pt solid;\n",
       "  color: var(--sklearn-color-fitted-level-1);\n",
       "}\n",
       "\n",
       "/* On hover */\n",
       "#sk-container-id-2 a.estimator_doc_link:hover {\n",
       "  /* unfitted */\n",
       "  background-color: var(--sklearn-color-unfitted-level-3);\n",
       "  color: var(--sklearn-color-background);\n",
       "  text-decoration: none;\n",
       "}\n",
       "\n",
       "#sk-container-id-2 a.estimator_doc_link.fitted:hover {\n",
       "  /* fitted */\n",
       "  background-color: var(--sklearn-color-fitted-level-3);\n",
       "}\n",
       "</style><div id=\"sk-container-id-2\" class=\"sk-top-container\"><div class=\"sk-text-repr-fallback\"><pre>LinearRegression()</pre><b>In a Jupyter environment, please rerun this cell to show the HTML representation or trust the notebook. <br />On GitHub, the HTML representation is unable to render, please try loading this page with nbviewer.org.</b></div><div class=\"sk-container\" hidden><div class=\"sk-item\"><div class=\"sk-estimator fitted sk-toggleable\"><input class=\"sk-toggleable__control sk-hidden--visually\" id=\"sk-estimator-id-2\" type=\"checkbox\" checked><label for=\"sk-estimator-id-2\" class=\"sk-toggleable__label fitted sk-toggleable__label-arrow fitted\">&nbsp;&nbsp;LinearRegression<a class=\"sk-estimator-doc-link fitted\" rel=\"noreferrer\" target=\"_blank\" href=\"https://scikit-learn.org/1.5/modules/generated/sklearn.linear_model.LinearRegression.html\">?<span>Documentation for LinearRegression</span></a><span class=\"sk-estimator-doc-link fitted\">i<span>Fitted</span></span></label><div class=\"sk-toggleable__content fitted\"><pre>LinearRegression()</pre></div> </div></div></div></div>"
      ],
      "text/plain": [
       "LinearRegression()"
      ]
     },
     "execution_count": 103,
     "metadata": {},
     "output_type": "execute_result"
    }
   ],
   "source": [
    "Linear.fit(X_train,Y_train)"
   ]
  },
  {
   "cell_type": "code",
   "execution_count": 104,
   "id": "22d44d61-831f-4b4a-8b3a-7735f551b5aa",
   "metadata": {},
   "outputs": [
    {
     "data": {
      "text/plain": [
       "0.9997787612797937"
      ]
     },
     "execution_count": 104,
     "metadata": {},
     "output_type": "execute_result"
    }
   ],
   "source": [
    "Linear.score(X_train, Y_train)"
   ]
  },
  {
   "cell_type": "code",
   "execution_count": 105,
   "id": "9e037123-03fe-4cbe-9889-7485311bf855",
   "metadata": {},
   "outputs": [
    {
     "data": {
      "text/plain": [
       "array([2117.52075573,  629.32212878])"
      ]
     },
     "execution_count": 105,
     "metadata": {},
     "output_type": "execute_result"
    }
   ],
   "source": [
    "Linear.coef_"
   ]
  },
  {
   "cell_type": "code",
   "execution_count": 106,
   "id": "d00b073d-660b-4ebb-869f-3fd03c3402e1",
   "metadata": {},
   "outputs": [
    {
     "data": {
      "text/plain": [
       "-1918.8341666788583"
      ]
     },
     "execution_count": 106,
     "metadata": {},
     "output_type": "execute_result"
    }
   ],
   "source": [
    "Linear.intercept_"
   ]
  },
  {
   "cell_type": "code",
   "execution_count": 107,
   "id": "b5589fef-c33d-4478-b94f-3620fc023b57",
   "metadata": {},
   "outputs": [],
   "source": [
    "# Linear.predict(X_test)"
   ]
  },
  {
   "cell_type": "code",
   "execution_count": 108,
   "id": "f3035e4a-881d-4870-87e8-606ded9894a6",
   "metadata": {},
   "outputs": [
    {
     "data": {
      "text/plain": [
       "{'copy_X': True, 'fit_intercept': True, 'n_jobs': None, 'positive': False}"
      ]
     },
     "execution_count": 108,
     "metadata": {},
     "output_type": "execute_result"
    }
   ],
   "source": [
    "Linear.get_params()"
   ]
  },
  {
   "cell_type": "code",
   "execution_count": 109,
   "id": "2d10be6a-523e-4e3f-9998-1b3c42dcac12",
   "metadata": {},
   "outputs": [],
   "source": [
    "## PREDICTION OF THE MODEL"
   ]
  },
  {
   "cell_type": "code",
   "execution_count": 110,
   "id": "ca48d4db-d1c0-48f1-bae0-27ca8a25a263",
   "metadata": {},
   "outputs": [],
   "source": [
    "reg_pred = Linear.predict(X_test)"
   ]
  },
  {
   "cell_type": "code",
   "execution_count": 111,
   "id": "5c98bd6a-7740-4ee0-944b-ad0f27d8db60",
   "metadata": {},
   "outputs": [
    {
     "data": {
      "text/plain": [
       "array([-9.37999932e+01,  1.20560200e+03,  6.95460785e+03,  9.83321809e+04,\n",
       "       -1.56732206e+02,  2.36055631e+03,  8.46498096e+03,  1.42955023e+04,\n",
       "        2.10882746e+03,  3.05281065e+03,  8.77964202e+03,  7.64686219e+03,\n",
       "        1.26185070e+04,  5.50716695e+03,  2.86401401e+03,  5.82182802e+03,\n",
       "        1.66830197e+03,  1.29070869e+03, -7.86054335e+02,  8.33911653e+03,\n",
       "        4.75198040e+03, -1.54124089e+03, -1.22657983e+03,  2.21251740e+03,\n",
       "        4.24852270e+03, -4.71393270e+02,  4.31145491e+03,  3.49333614e+03,\n",
       "       -7.86054335e+02,  1.29070869e+03,  2.73814959e+03,  5.50716695e+03,\n",
       "        6.19942129e+03,  2.36055631e+03,  1.98296303e+03, -9.74850974e+02,\n",
       "        9.76047626e+02,  4.72589923e+02,  1.10452017e+04, -5.97257696e+02,\n",
       "       -4.71393270e+02,  1.41657312e+03,  1.54243754e+03,  9.03137087e+03,\n",
       "       -2.82596632e+02,  3.74506499e+03,  2.17175967e+03, -1.56732206e+02,\n",
       "        8.87035524e+04, -5.97257696e+02,  2.83793284e+02,  1.16484426e+03,\n",
       "        6.13648908e+03,  2.08665298e+03,  3.20644326e+01,  8.46498096e+03,\n",
       "       -1.60417310e+03, -9.74850974e+02,  7.33220113e+03,  5.12957368e+03,\n",
       "       -1.60417310e+03,  5.82182802e+03,  7.89859104e+03, -4.71393270e+02,\n",
       "        3.20644326e+01,  2.04589524e+03,  1.07973757e+03,  7.58392998e+03,\n",
       "        4.31145491e+03,  4.87784482e+03, -6.60189909e+02,  1.57928858e+02,\n",
       "       -1.22657983e+03,  4.43731933e+03, -9.37999932e+01,  3.20644326e+01,\n",
       "       -5.34325483e+02,  2.80998314e+04,  6.39212079e+02, -1.35244425e+03,\n",
       "       -8.48986548e+02,  2.61228516e+03,  2.23469188e+03, -7.86054335e+02,\n",
       "        8.59084538e+03,  1.98296303e+03, -2.82596632e+02,  4.81491261e+03,\n",
       "        1.69608297e+04,  3.24160729e+03,  6.82874342e+03, -1.56732206e+02,\n",
       "       -3.08677803e+01,  1.24574914e+05,  4.12265827e+03,  7.83565883e+03,\n",
       "        4.31145491e+03,  3.68213278e+03,  3.55626835e+03,  7.20633670e+03,\n",
       "        1.57928858e+02, -2.82596632e+02,  3.36747172e+03,  3.20644326e+01,\n",
       "        1.03897984e+03,  5.00370925e+03, -9.11918761e+02,  6.89167564e+03,\n",
       "       -9.11918761e+02,  2.77890732e+03,  3.11574286e+03,  3.05281065e+03,\n",
       "        3.87092942e+03,  1.26853421e+03,  1.14266978e+03,  2.17175967e+03,\n",
       "        4.31145491e+03,  1.16484426e+03,  5.63303138e+03,  3.99679384e+03,\n",
       "        1.29070869e+03,  1.60536975e+03,  2.42348852e+03,  4.24852270e+03,\n",
       "        3.36747172e+03,  4.56318376e+03,  6.26235351e+03,  9.76047626e+02,\n",
       "        4.62611597e+03,  4.87784482e+03, -7.23122122e+02,  2.17175967e+03,\n",
       "        8.33911653e+03,  1.66830197e+03,  3.21943281e+03,  6.13648908e+03,\n",
       "        7.87250987e+02,  6.13648908e+03, -1.28951204e+03,  1.41918123e+04,\n",
       "       -1.35244425e+03,  2.48642073e+03,  7.01754006e+03,  6.89428375e+04,\n",
       "       -1.56732206e+02,  1.57928858e+02,  4.72589923e+02,  6.26235351e+03,\n",
       "        1.39400835e+04,  5.50716695e+03,  4.62611597e+03,  1.57928858e+02,\n",
       "        9.78655743e+03,  6.38821793e+03,  3.55626835e+03,  2.10882746e+03,\n",
       "        7.87250987e+02,  1.85709861e+03, -9.37999932e+01,  6.61386561e+02,\n",
       "        1.22777648e+03,  4.62611597e+03, -3.08677803e+01, -1.54124089e+03,\n",
       "       -4.71393270e+02,  8.84257424e+03, -5.97257696e+02,  5.25543810e+03,\n",
       "        1.57928858e+02,  1.14266978e+03,  8.50183200e+02, -1.28951204e+03,\n",
       "        1.58280499e+04,  2.01074403e+04,  1.05825017e+04, -2.82596632e+02,\n",
       "        1.41657312e+03, -1.56732206e+02,  9.66069300e+03,  5.35522136e+02,\n",
       "        2.10882746e+03,  2.11143557e+04, -9.74850974e+02, -1.56732206e+02,\n",
       "       -1.56732206e+02,  3.11574286e+03,  1.85709861e+03, -1.03778319e+03,\n",
       "        1.10191205e+03,  8.33911653e+03,  6.63994678e+03, -4.71393270e+02,\n",
       "        7.87250987e+02,  4.09657710e+02,  4.31145491e+03,  5.35522136e+02,\n",
       "        1.58319527e+03, -8.48986548e+02,  4.68904819e+03,  4.62611597e+03,\n",
       "        2.92694622e+03,  9.49966454e+01,  1.98296303e+03,  1.66830197e+03,\n",
       "       -3.08677803e+01,  6.38821793e+03,  6.63994678e+03,  3.24160729e+03,\n",
       "       -1.28951204e+03,  1.10191205e+03,  3.43040393e+03,  9.26092524e+03,\n",
       "        1.35364090e+03, -1.03778319e+03,  1.54243754e+03, -3.45528845e+02,\n",
       "        3.46725497e+02, -1.10071540e+03,  5.12957368e+03,  1.60536975e+03,\n",
       "        1.03897984e+03,  9.76047626e+02,  2.65672838e+04,  3.43040393e+03,\n",
       "        1.22777648e+03,  3.49333614e+03,  6.07355687e+03,  5.38130253e+03,\n",
       "       -1.16364761e+03, -3.45528845e+02, -7.23122122e+02,  6.45115015e+03])"
      ]
     },
     "execution_count": 111,
     "metadata": {},
     "output_type": "execute_result"
    }
   ],
   "source": [
    "reg_pred"
   ]
  },
  {
   "cell_type": "code",
   "execution_count": 112,
   "id": "af165de0-ffd9-4a59-be69-ee868c161a6b",
   "metadata": {},
   "outputs": [],
   "source": [
    "## PLOT A SCATTER PLOT"
   ]
  },
  {
   "cell_type": "code",
   "execution_count": 113,
   "id": "78c76e38-5854-4c12-91f3-49f078e51f23",
   "metadata": {},
   "outputs": [
    {
     "data": {
      "text/plain": [
       "<matplotlib.collections.PathCollection at 0x74445d7bf920>"
      ]
     },
     "execution_count": 113,
     "metadata": {},
     "output_type": "execute_result"
    },
    {
     "data": {
      "image/png": "[encoded data removed]",
      "text/plain": [
       "<Figure size 640x480 with 1 Axes>"
      ]
     },
     "metadata": {},
     "output_type": "display_data"
    }
   ],
   "source": [
    "plt.scatter(Y_test,reg_pred)"
   ]
  },
  {
   "cell_type": "code",
   "execution_count": 114,
   "id": "36d14d75-bd7b-4154-af16-85680bd0dd2e",
   "metadata": {},
   "outputs": [],
   "source": [
    "## RESIDUALS\n",
    "residuals = reg_pred-Y_test"
   ]
  },
  {
   "cell_type": "code",
   "execution_count": 115,
   "id": "e283b25e-bd9b-4ee9-a123-670ae02f952a",
   "metadata": {},
   "outputs": [
    {
     "data": {
      "text/plain": [
       "940     -1398.799993\n",
       "265       197.601995\n",
       "109       609.607849\n",
       "299     26647.180949\n",
       "752     -1416.732206\n",
       "            ...     \n",
       "1133      161.302527\n",
       "514     -1703.647612\n",
       "380     -1470.528845\n",
       "952     -1578.122122\n",
       "1002      466.150146\n",
       "Name: Price INR, Length: 232, dtype: float64"
      ]
     },
     "execution_count": 115,
     "metadata": {},
     "output_type": "execute_result"
    }
   ],
   "source": [
    "residuals"
   ]
  },
  {
   "cell_type": "code",
   "execution_count": 116,
   "id": "37207bbe-1631-4bc0-b1dd-416b9b98713a",
   "metadata": {},
   "outputs": [
    {
     "data": {
      "text/plain": [
       "<seaborn.axisgrid.FacetGrid at 0x74445df98650>"
      ]
     },
     "execution_count": 116,
     "metadata": {},
     "output_type": "execute_result"
    },
    {
     "data": {
      "image/png": "[encoded data removed]",
      "text/plain": [
       "<Figure size 500x500 with 1 Axes>"
      ]
     },
     "metadata": {},
     "output_type": "display_data"
    }
   ],
   "source": [
    "sns.displot(residuals,kind=\"kde\")"
   ]
  },
  {
   "cell_type": "code",
   "execution_count": 117,
   "id": "8171c5e0-2b3e-47e5-9088-434111f46bb9",
   "metadata": {},
   "outputs": [],
   "source": [
    "## Sctter plot for prediction and residuals"
   ]
  },
  {
   "cell_type": "code",
   "execution_count": 118,
   "id": "5da41bb8-2e3d-471b-8d6c-7109c6ea2332",
   "metadata": {},
   "outputs": [
    {
     "data": {
      "text/plain": [
       "<matplotlib.collections.PathCollection at 0x74445d79d9d0>"
      ]
     },
     "execution_count": 118,
     "metadata": {},
     "output_type": "execute_result"
    },
    {
     "data": {
      "image/png": "[encoded data removed]",
      "text/plain": [
       "<Figure size 640x480 with 1 Axes>"
      ]
     },
     "metadata": {},
     "output_type": "display_data"
    }
   ],
   "source": [
    "plt.scatter(residuals,reg_pred)"
   ]
  },
  {
   "cell_type": "code",
   "execution_count": 119,
   "id": "ce3a8e4b-766e-488f-9406-abde94e96a0a",
   "metadata": {},
   "outputs": [],
   "source": [
    "from sklearn.metrics import mean_squared_error\n",
    "from sklearn.metrics import mean_absolute_error"
   ]
  },
  {
   "cell_type": "code",
   "execution_count": 120,
   "id": "fdc112c4-4c4f-4ca7-b16e-0aa2bf54507f",
   "metadata": {},
   "outputs": [
    {
     "name": "stdout",
     "output_type": "stream",
     "text": [
      "1412.7886387536748\n",
      "13550343.136150975\n",
      "3681.0790722491924\n"
     ]
    }
   ],
   "source": [
    "print(mean_absolute_error(Y_test,reg_pred))\n",
    "print(mean_squared_error(Y_test,reg_pred))\n",
    "print(np.sqrt(mean_squared_error(Y_test,reg_pred)))"
   ]
  },
  {
   "cell_type": "code",
   "execution_count": 121,
   "id": "8080ad4e-0dae-46af-b438-444c95a7595d",
   "metadata": {},
   "outputs": [],
   "source": [
    "## Adjusted R^2 and R^2"
   ]
  },
  {
   "cell_type": "code",
   "execution_count": 122,
   "id": "dcbeb68e-1e3f-4a95-b289-dde65a79ff54",
   "metadata": {},
   "outputs": [
    {
     "name": "stdout",
     "output_type": "stream",
     "text": [
      "0.8468301097070645\n"
     ]
    }
   ],
   "source": [
    "from sklearn.metrics import r2_score\n",
    "score = r2_score(Y_test,reg_pred)\n",
    "print(score)"
   ]
  },
  {
   "cell_type": "code",
   "execution_count": 123,
   "id": "42c07859-9918-4ce4-94cc-e07824c3d40b",
   "metadata": {},
   "outputs": [
    {
     "data": {
      "text/plain": [
       "0.8454923814075629"
      ]
     },
     "execution_count": 123,
     "metadata": {},
     "output_type": "execute_result"
    }
   ],
   "source": [
    "1-(1-score)*(len(Y_test)-1)/(len(Y_test)-X_test.shape[1]-1)"
   ]
  },
  {
   "cell_type": "markdown",
   "id": "a26330e3-da60-47a3-92e2-09846ec6b95d",
   "metadata": {},
   "source": [
    "## NEW DATA PREDICTION"
   ]
  },
  {
   "cell_type": "code",
   "execution_count": 124,
   "id": "a7010859-293b-4abf-bcbc-38b126a0ff7f",
   "metadata": {},
   "outputs": [],
   "source": [
    "X = X.to_numpy()"
   ]
  },
  {
   "cell_type": "code",
   "execution_count": 125,
   "id": "5796f8cc-2a64-4d50-965b-88e45709619c",
   "metadata": {},
   "outputs": [
    {
     "data": {
      "text/plain": [
       "array([[0.00000e+00, 5.10000e+00],\n",
       "       [0.00000e+00, 5.00000e+00],\n",
       "       [0.00000e+00, 4.80000e+00],\n",
       "       ...,\n",
       "       [0.00000e+00, 6.40000e+00],\n",
       "       [0.00000e+00, 4.82000e+01],\n",
       "       [2.00000e+00, 1.22047e+04]])"
      ]
     },
     "execution_count": 125,
     "metadata": {},
     "output_type": "execute_result"
    }
   ],
   "source": [
    "X"
   ]
  },
  {
   "cell_type": "code",
   "execution_count": 126,
   "id": "1b8eff78-34eb-475e-bcbd-752c3535a055",
   "metadata": {},
   "outputs": [
    {
     "data": {
      "text/plain": [
       "array([0. , 5.1])"
      ]
     },
     "execution_count": 126,
     "metadata": {},
     "output_type": "execute_result"
    }
   ],
   "source": [
    "X[0]"
   ]
  },
  {
   "cell_type": "code",
   "execution_count": 127,
   "id": "07f959de-47f4-462f-b0d2-f43ac6af7089",
   "metadata": {},
   "outputs": [
    {
     "data": {
      "text/plain": [
       "array([[0. , 5.1]])"
      ]
     },
     "execution_count": 127,
     "metadata": {},
     "output_type": "execute_result"
    }
   ],
   "source": [
    "X[0].reshape(1,-1)"
   ]
  },
  {
   "cell_type": "code",
   "execution_count": 128,
   "id": "f4742ecf-d9a9-4dbd-bf25-2d9970f2bc7a",
   "metadata": {},
   "outputs": [
    {
     "name": "stderr",
     "output_type": "stream",
     "text": [
      "/home/dhruv/anaconda3/envs/new_env/lib/python3.12/site-packages/sklearn/base.py:493: UserWarning: X does not have valid feature names, but LinearRegression was fitted with feature names\n",
      "  warnings.warn(\n"
     ]
    },
    {
     "data": {
      "text/plain": [
       "array([1290.70869012])"
      ]
     },
     "execution_count": 128,
     "metadata": {},
     "output_type": "execute_result"
    }
   ],
   "source": [
    "Linear.predict(X[0].reshape(1, -1))"
   ]
  },
  {
   "cell_type": "markdown",
   "id": "24f8043f-ac11-4299-a6e6-0a16a15c5d13",
   "metadata": {},
   "source": [
    "## Pickling the Model"
   ]
  },
  {
   "cell_type": "code",
   "execution_count": 129,
   "id": "82af49ac-7d2b-4d94-8b52-db07589468df",
   "metadata": {},
   "outputs": [],
   "source": [
    "import pickle"
   ]
  },
  {
   "cell_type": "code",
   "execution_count": 130,
   "id": "41be8b7c-81e5-429a-95a6-166161317bf2",
   "metadata": {},
   "outputs": [],
   "source": [
    "pickle.dump(Linear,open('regmodel.pkl','wb'))"
   ]
  },
  {
   "cell_type": "code",
   "execution_count": 131,
   "id": "82b2d286-31db-4d07-905d-482aefe6b1ba",
   "metadata": {},
   "outputs": [],
   "source": [
    "pickled_model = pickle.load(open('regmodel.pkl','rb'))"
   ]
  },
  {
   "cell_type": "code",
   "execution_count": 132,
   "id": "4816677d-ce00-4589-af00-c9d50d1d6ca4",
   "metadata": {},
   "outputs": [
    {
     "name": "stderr",
     "output_type": "stream",
     "text": [
      "/home/dhruv/anaconda3/envs/new_env/lib/python3.12/site-packages/sklearn/base.py:493: UserWarning: X does not have valid feature names, but LinearRegression was fitted with feature names\n",
      "  warnings.warn(\n"
     ]
    },
    {
     "data": {
      "text/plain": [
       "array([1290.70869012])"
      ]
     },
     "execution_count": 132,
     "metadata": {},
     "output_type": "execute_result"
    }
   ],
   "source": [
    "pickled_model.predict(X[0].reshape(1, -1))"
   ]
  },
  {
   "cell_type": "code",
   "execution_count": null,
   "id": "dcee0f21-0563-4a48-8f28-ea22c8701365",
   "metadata": {},
   "outputs": [],
   "source": []
  }
 ],
 "metadata": {
  "kernelspec": {
   "display_name": "Python 3 (ipykernel)",
   "language": "python",
   "name": "python3"
  },
  "language_info": {
   "codemirror_mode": {
    "name": "ipython",
    "version": 3
   },
   "file_extension": ".py",
   "mimetype": "text/x-python",
   "name": "python",
   "nbconvert_exporter": "python",
   "pygments_lexer": "ipython3",
   "version": "3.12.4"
  }
 },
 "nbformat": 4,
 "nbformat_minor": 5
}
